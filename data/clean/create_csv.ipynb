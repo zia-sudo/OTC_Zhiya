{
 "cells": [
  {
   "cell_type": "markdown",
   "metadata": {},
   "source": [
    "## Création d'un fichier CSV"
   ]
  },
  {
   "cell_type": "code",
   "execution_count": null,
   "metadata": {},
   "outputs": [],
   "source": [
    "import os\n",
    "import pandas as pd\n",
    "from random import sample\n",
    "import stanza, spacy"
   ]
  },
  {
   "cell_type": "code",
   "execution_count": null,
   "metadata": {},
   "outputs": [],
   "source": [
    "def segment_sentences(text, language):\n",
    "    if language == \"ar\":\n",
    "        nlp = stanza.Pipeline(lang=\"ar\", processors=\"tokenize\", tokenize_no_ssplit=True)\n",
    "        doc = nlp(text)\n",
    "        sentences = [\" \".join([token.text for token in sentence.tokens]) for sentence in doc.sentences]\n",
    "    elif language == \"ja\":\n",
    "        nlp = spacy.load(\"ja_core_news_sm\")\n",
    "        doc = nlp(text)\n",
    "        sentences = [sent.text for sent in doc.sents]\n",
    "    elif language == \"zh\":\n",
    "        nlp = spacy.load(\"zh_core_web_sm\")\n",
    "        doc = nlp(text)\n",
    "        sentences = [sent.text for sent in doc.sents]\n",
    "    else:\n",
    "        nlp = spacy.load(\"en_core_web_sm\")\n",
    "        doc = nlp(text)\n",
    "        sentences = [sent.text for sent in doc.sents]\n",
    "    return sentences"
   ]
  },
  {
   "cell_type": "code",
   "execution_count": null,
   "metadata": {},
   "outputs": [],
   "source": [
    "def create_csv(input_folder, output_csv):\n",
    "    data = []\n",
    "    for file_name in os.listdir(input_folder):\n",
    "        if file_name.endswith(\".txt\"):\n",
    "            parts = file_name.split(\"_\")\n",
    "            if len(parts) >= 2:\n",
    "                language = parts[1].split(\".\")[0]  # Extraire la langue avant le \".\"\n",
    "                with open(os.path.join(input_folder, file_name), \"r\", encoding=\"utf-8\") as file:\n",
    "                    text = file.read()\n",
    "                sentences = segment_sentences(text, language)\n",
    "                data.extend([(language, sentence) for sentence in sentences])\n",
    "\n",
    "    df = pd.DataFrame(data, columns=[\"labels\", \"text\"])\n",
    "    # Mélanger les lignes du DataFrame\n",
    "    df = df.sample(frac=1).reset_index(drop=True)\n",
    "    \n",
    "    # Créer les répertoires nécessaires s'ils n'existent pas déjà\n",
    "    os.makedirs(os.path.dirname(output_csv), exist_ok=True)\n",
    "    # Sauvegarder le fichier CSV\n",
    "    df.to_csv(output_csv, index=False, encoding=\"utf-8\")\n",
    "    print(f\"Le fichier de sortie CSV est bien généré : {output_csv}\")"
   ]
  },
  {
   "cell_type": "code",
   "execution_count": null,
   "metadata": {},
   "outputs": [],
   "source": [
    "def main():\n",
    "    input_folder = \"./results/fichiers_clean/\"\n",
    "    output_csv = \"./results/CSV/result.csv\"\n",
    "    create_csv(input_folder, output_csv)"
   ]
  },
  {
   "cell_type": "code",
   "execution_count": null,
   "metadata": {},
   "outputs": [],
   "source": [
    "if __name__ == \"__main__\":\n",
    "    main()"
   ]
  }
 ],
 "metadata": {
  "kernelspec": {
   "display_name": "Python 3",
   "language": "python",
   "name": "python3"
  },
  "language_info": {
   "codemirror_mode": {
    "name": "ipython",
    "version": 3
   },
   "file_extension": ".py",
   "mimetype": "text/x-python",
   "name": "python",
   "nbconvert_exporter": "python",
   "pygments_lexer": "ipython3",
   "version": "3.11.6"
  }
 },
 "nbformat": 4,
 "nbformat_minor": 2
}
