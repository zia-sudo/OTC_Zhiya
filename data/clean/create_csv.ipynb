{
 "cells": [
  {
   "cell_type": "markdown",
   "metadata": {},
   "source": [
    "## Création d'un fichier CSV"
   ]
  },
  {
   "cell_type": "code",
   "execution_count": 1,
   "metadata": {},
   "outputs": [
    {
     "name": "stderr",
     "output_type": "stream",
     "text": [
      "/home/zia/miniconda3/lib/python3.11/site-packages/torch/cuda/__init__.py:628: UserWarning: Can't initialize NVML\n",
      "  warnings.warn(\"Can't initialize NVML\")\n"
     ]
    }
   ],
   "source": [
    "import os\n",
    "import pandas as pd\n",
    "from random import sample\n",
    "import stanza, spacy"
   ]
  },
  {
   "cell_type": "code",
   "execution_count": 2,
   "metadata": {},
   "outputs": [],
   "source": [
    "def segment_sentences(text, language):\n",
    "    if language == \"ar\":\n",
    "        nlp = stanza.Pipeline(lang=\"ar\", processors=\"tokenize\", tokenize_no_ssplit=True)\n",
    "        doc = nlp(text)\n",
    "        sentences = [\" \".join([token.text for token in sentence.tokens]) for sentence in doc.sentences]\n",
    "    elif language == \"ja\":\n",
    "        nlp = spacy.load(\"ja_core_news_sm\")\n",
    "        doc = nlp(text)\n",
    "        sentences = [sent.text for sent in doc.sents]\n",
    "    elif language == \"zh\":\n",
    "        nlp = spacy.load(\"zh_core_web_sm\")\n",
    "        doc = nlp(text)\n",
    "        sentences = [sent.text for sent in doc.sents]\n",
    "    else:\n",
    "        nlp = spacy.load(\"en_core_web_sm\")\n",
    "        doc = nlp(text)\n",
    "        sentences = [sent.text for sent in doc.sents]\n",
    "    return sentences"
   ]
  },
  {
   "cell_type": "code",
   "execution_count": 3,
   "metadata": {},
   "outputs": [],
   "source": [
    "def create_csv(input_folder, output_csv):\n",
    "    data = []\n",
    "    for file_name in os.listdir(input_folder):\n",
    "        if file_name.endswith(\".txt\"):\n",
    "            parts = file_name.split(\"_\")\n",
    "            if len(parts) >= 2:\n",
    "                language = parts[1].split(\".\")[0]  # Extraire la langue avant le \".\"\n",
    "                with open(os.path.join(input_folder, file_name), \"r\", encoding=\"utf-8\") as file:\n",
    "                    text = file.read()\n",
    "                sentences = segment_sentences(text, language)\n",
    "                data.extend([(language, sentence) for sentence in sentences])\n",
    "\n",
    "    df = pd.DataFrame(data, columns=[\"labels\", \"text\"])\n",
    "    # Mélanger les lignes du DataFrame\n",
    "    df = df.sample(frac=1).reset_index(drop=True)\n",
    "    \n",
    "    # Créer les répertoires nécessaires s'ils n'existent pas déjà\n",
    "    os.makedirs(os.path.dirname(output_csv), exist_ok=True)\n",
    "    # Sauvegarder le fichier CSV\n",
    "    df.to_csv(output_csv, index=False, encoding=\"utf-8\")\n",
    "    print(f\"Le fichier de sortie CSV est bien généré : {output_csv}\")"
   ]
  },
  {
   "cell_type": "code",
   "execution_count": 4,
   "metadata": {},
   "outputs": [],
   "source": [
    "def main():\n",
    "    input_folder = \"./results/fichiers_clean/\"\n",
    "    output_csv = \"./results/CSV/result.csv\"\n",
    "    create_csv(input_folder, output_csv)"
   ]
  },
  {
   "cell_type": "code",
   "execution_count": 5,
   "metadata": {},
   "outputs": [
    {
     "name": "stderr",
     "output_type": "stream",
     "text": [
      "2024-05-12 00:55:22 INFO: Checking for updates to resources.json in case models have been updated.  Note: this behavior can be turned off with download_method=None or download_method=DownloadMethod.REUSE_RESOURCES\n"
     ]
    },
    {
     "data": {
      "application/vnd.jupyter.widget-view+json": {
       "model_id": "a9cc623db33e4d51a8a63dae0794ab84",
       "version_major": 2,
       "version_minor": 0
      },
      "text/plain": [
       "Downloading https://raw.githubusercontent.com/stanfordnlp/stanza-resources/main/resources_1.8.0.json:   0%|   …"
      ]
     },
     "metadata": {},
     "output_type": "display_data"
    },
    {
     "name": "stderr",
     "output_type": "stream",
     "text": [
      "2024-05-12 00:55:22 INFO: Downloaded file to /home/zia/stanza_resources/resources.json\n",
      "2024-05-12 00:55:22 WARNING: Language ar package default expects mwt, which has been added\n",
      "2024-05-12 00:55:22 INFO: Loading these models for language: ar (Arabic):\n",
      "=======================\n",
      "| Processor | Package |\n",
      "-----------------------\n",
      "| tokenize  | padt    |\n",
      "| mwt       | padt    |\n",
      "=======================\n",
      "\n",
      "2024-05-12 00:55:22 INFO: Using device: cpu\n",
      "2024-05-12 00:55:22 INFO: Loading: tokenize\n",
      "2024-05-12 00:55:23 INFO: Loading: mwt\n",
      "2024-05-12 00:55:23 INFO: Done loading processors!\n",
      "2024-05-12 00:55:32 INFO: Checking for updates to resources.json in case models have been updated.  Note: this behavior can be turned off with download_method=None or download_method=DownloadMethod.REUSE_RESOURCES\n"
     ]
    },
    {
     "data": {
      "application/vnd.jupyter.widget-view+json": {
       "model_id": "133737924e824b90a6de217c1ee85241",
       "version_major": 2,
       "version_minor": 0
      },
      "text/plain": [
       "Downloading https://raw.githubusercontent.com/stanfordnlp/stanza-resources/main/resources_1.8.0.json:   0%|   …"
      ]
     },
     "metadata": {},
     "output_type": "display_data"
    },
    {
     "name": "stderr",
     "output_type": "stream",
     "text": [
      "2024-05-12 00:55:32 INFO: Downloaded file to /home/zia/stanza_resources/resources.json\n",
      "2024-05-12 00:55:32 WARNING: Language ar package default expects mwt, which has been added\n",
      "2024-05-12 00:55:32 INFO: Loading these models for language: ar (Arabic):\n",
      "=======================\n",
      "| Processor | Package |\n",
      "-----------------------\n",
      "| tokenize  | padt    |\n",
      "| mwt       | padt    |\n",
      "=======================\n",
      "\n",
      "2024-05-12 00:55:32 INFO: Using device: cpu\n",
      "2024-05-12 00:55:32 INFO: Loading: tokenize\n",
      "2024-05-12 00:55:32 INFO: Loading: mwt\n",
      "2024-05-12 00:55:32 INFO: Done loading processors!\n",
      "2024-05-12 00:55:40 INFO: Checking for updates to resources.json in case models have been updated.  Note: this behavior can be turned off with download_method=None or download_method=DownloadMethod.REUSE_RESOURCES\n"
     ]
    },
    {
     "data": {
      "application/vnd.jupyter.widget-view+json": {
       "model_id": "1d6f91a3d09d47249d87a86c4d758819",
       "version_major": 2,
       "version_minor": 0
      },
      "text/plain": [
       "Downloading https://raw.githubusercontent.com/stanfordnlp/stanza-resources/main/resources_1.8.0.json:   0%|   …"
      ]
     },
     "metadata": {},
     "output_type": "display_data"
    },
    {
     "name": "stderr",
     "output_type": "stream",
     "text": [
      "2024-05-12 00:55:40 INFO: Downloaded file to /home/zia/stanza_resources/resources.json\n",
      "2024-05-12 00:55:40 WARNING: Language ar package default expects mwt, which has been added\n",
      "2024-05-12 00:55:40 INFO: Loading these models for language: ar (Arabic):\n",
      "=======================\n",
      "| Processor | Package |\n",
      "-----------------------\n",
      "| tokenize  | padt    |\n",
      "| mwt       | padt    |\n",
      "=======================\n",
      "\n",
      "2024-05-12 00:55:40 INFO: Using device: cpu\n",
      "2024-05-12 00:55:40 INFO: Loading: tokenize\n",
      "2024-05-12 00:55:40 INFO: Loading: mwt\n",
      "2024-05-12 00:55:40 INFO: Done loading processors!\n",
      "2024-05-12 00:55:45 INFO: Checking for updates to resources.json in case models have been updated.  Note: this behavior can be turned off with download_method=None or download_method=DownloadMethod.REUSE_RESOURCES\n"
     ]
    },
    {
     "data": {
      "application/vnd.jupyter.widget-view+json": {
       "model_id": "d98960da20464b1294540cd0f1ea12d8",
       "version_major": 2,
       "version_minor": 0
      },
      "text/plain": [
       "Downloading https://raw.githubusercontent.com/stanfordnlp/stanza-resources/main/resources_1.8.0.json:   0%|   …"
      ]
     },
     "metadata": {},
     "output_type": "display_data"
    },
    {
     "name": "stderr",
     "output_type": "stream",
     "text": [
      "2024-05-12 00:55:46 INFO: Downloaded file to /home/zia/stanza_resources/resources.json\n",
      "2024-05-12 00:55:46 WARNING: Language ar package default expects mwt, which has been added\n",
      "2024-05-12 00:55:46 INFO: Loading these models for language: ar (Arabic):\n",
      "=======================\n",
      "| Processor | Package |\n",
      "-----------------------\n",
      "| tokenize  | padt    |\n",
      "| mwt       | padt    |\n",
      "=======================\n",
      "\n",
      "2024-05-12 00:55:46 INFO: Using device: cpu\n",
      "2024-05-12 00:55:46 INFO: Loading: tokenize\n",
      "2024-05-12 00:55:46 INFO: Loading: mwt\n",
      "2024-05-12 00:55:46 INFO: Done loading processors!\n",
      "2024-05-12 00:55:54 INFO: Checking for updates to resources.json in case models have been updated.  Note: this behavior can be turned off with download_method=None or download_method=DownloadMethod.REUSE_RESOURCES\n"
     ]
    },
    {
     "data": {
      "application/vnd.jupyter.widget-view+json": {
       "model_id": "4039af6a7b2b41ea8068168e11632282",
       "version_major": 2,
       "version_minor": 0
      },
      "text/plain": [
       "Downloading https://raw.githubusercontent.com/stanfordnlp/stanza-resources/main/resources_1.8.0.json:   0%|   …"
      ]
     },
     "metadata": {},
     "output_type": "display_data"
    },
    {
     "name": "stderr",
     "output_type": "stream",
     "text": [
      "2024-05-12 00:55:54 INFO: Downloaded file to /home/zia/stanza_resources/resources.json\n",
      "2024-05-12 00:55:54 WARNING: Language ar package default expects mwt, which has been added\n",
      "2024-05-12 00:55:54 INFO: Loading these models for language: ar (Arabic):\n",
      "=======================\n",
      "| Processor | Package |\n",
      "-----------------------\n",
      "| tokenize  | padt    |\n",
      "| mwt       | padt    |\n",
      "=======================\n",
      "\n",
      "2024-05-12 00:55:54 INFO: Using device: cpu\n",
      "2024-05-12 00:55:54 INFO: Loading: tokenize\n",
      "2024-05-12 00:55:54 INFO: Loading: mwt\n",
      "2024-05-12 00:55:54 INFO: Done loading processors!\n",
      "2024-05-12 00:56:06 INFO: Checking for updates to resources.json in case models have been updated.  Note: this behavior can be turned off with download_method=None or download_method=DownloadMethod.REUSE_RESOURCES\n"
     ]
    },
    {
     "data": {
      "application/vnd.jupyter.widget-view+json": {
       "model_id": "a1bb13d9aec34496836493cd8e7c7492",
       "version_major": 2,
       "version_minor": 0
      },
      "text/plain": [
       "Downloading https://raw.githubusercontent.com/stanfordnlp/stanza-resources/main/resources_1.8.0.json:   0%|   …"
      ]
     },
     "metadata": {},
     "output_type": "display_data"
    },
    {
     "name": "stderr",
     "output_type": "stream",
     "text": [
      "2024-05-12 00:56:07 INFO: Downloaded file to /home/zia/stanza_resources/resources.json\n",
      "2024-05-12 00:56:07 WARNING: Language ar package default expects mwt, which has been added\n",
      "2024-05-12 00:56:07 INFO: Loading these models for language: ar (Arabic):\n",
      "=======================\n",
      "| Processor | Package |\n",
      "-----------------------\n",
      "| tokenize  | padt    |\n",
      "| mwt       | padt    |\n",
      "=======================\n",
      "\n",
      "2024-05-12 00:56:07 INFO: Using device: cpu\n",
      "2024-05-12 00:56:07 INFO: Loading: tokenize\n",
      "2024-05-12 00:56:07 INFO: Loading: mwt\n",
      "2024-05-12 00:56:07 INFO: Done loading processors!\n",
      "2024-05-12 00:56:29 INFO: Checking for updates to resources.json in case models have been updated.  Note: this behavior can be turned off with download_method=None or download_method=DownloadMethod.REUSE_RESOURCES\n"
     ]
    },
    {
     "data": {
      "application/vnd.jupyter.widget-view+json": {
       "model_id": "60304180f63b4ecca979c830f07d1967",
       "version_major": 2,
       "version_minor": 0
      },
      "text/plain": [
       "Downloading https://raw.githubusercontent.com/stanfordnlp/stanza-resources/main/resources_1.8.0.json:   0%|   …"
      ]
     },
     "metadata": {},
     "output_type": "display_data"
    },
    {
     "name": "stderr",
     "output_type": "stream",
     "text": [
      "2024-05-12 00:56:29 INFO: Downloaded file to /home/zia/stanza_resources/resources.json\n",
      "2024-05-12 00:56:29 WARNING: Language ar package default expects mwt, which has been added\n",
      "2024-05-12 00:56:29 INFO: Loading these models for language: ar (Arabic):\n",
      "=======================\n",
      "| Processor | Package |\n",
      "-----------------------\n",
      "| tokenize  | padt    |\n",
      "| mwt       | padt    |\n",
      "=======================\n",
      "\n",
      "2024-05-12 00:56:29 INFO: Using device: cpu\n",
      "2024-05-12 00:56:29 INFO: Loading: tokenize\n",
      "2024-05-12 00:56:29 INFO: Loading: mwt\n",
      "2024-05-12 00:56:29 INFO: Done loading processors!\n",
      "2024-05-12 00:56:29 INFO: Checking for updates to resources.json in case models have been updated.  Note: this behavior can be turned off with download_method=None or download_method=DownloadMethod.REUSE_RESOURCES\n"
     ]
    },
    {
     "data": {
      "application/vnd.jupyter.widget-view+json": {
       "model_id": "4f6230443f324beca6bbe3d2a7c5a4d6",
       "version_major": 2,
       "version_minor": 0
      },
      "text/plain": [
       "Downloading https://raw.githubusercontent.com/stanfordnlp/stanza-resources/main/resources_1.8.0.json:   0%|   …"
      ]
     },
     "metadata": {},
     "output_type": "display_data"
    },
    {
     "name": "stderr",
     "output_type": "stream",
     "text": [
      "2024-05-12 00:56:29 INFO: Downloaded file to /home/zia/stanza_resources/resources.json\n",
      "2024-05-12 00:56:29 WARNING: Language ar package default expects mwt, which has been added\n",
      "2024-05-12 00:56:29 INFO: Loading these models for language: ar (Arabic):\n",
      "=======================\n",
      "| Processor | Package |\n",
      "-----------------------\n",
      "| tokenize  | padt    |\n",
      "| mwt       | padt    |\n",
      "=======================\n",
      "\n",
      "2024-05-12 00:56:29 INFO: Using device: cpu\n",
      "2024-05-12 00:56:29 INFO: Loading: tokenize\n",
      "2024-05-12 00:56:29 INFO: Loading: mwt\n",
      "2024-05-12 00:56:29 INFO: Done loading processors!\n",
      "2024-05-12 00:56:42 INFO: Checking for updates to resources.json in case models have been updated.  Note: this behavior can be turned off with download_method=None or download_method=DownloadMethod.REUSE_RESOURCES\n"
     ]
    },
    {
     "data": {
      "application/vnd.jupyter.widget-view+json": {
       "model_id": "848c57914bd64b26a0705cc08b7c2944",
       "version_major": 2,
       "version_minor": 0
      },
      "text/plain": [
       "Downloading https://raw.githubusercontent.com/stanfordnlp/stanza-resources/main/resources_1.8.0.json:   0%|   …"
      ]
     },
     "metadata": {},
     "output_type": "display_data"
    },
    {
     "name": "stderr",
     "output_type": "stream",
     "text": [
      "2024-05-12 00:56:42 INFO: Downloaded file to /home/zia/stanza_resources/resources.json\n",
      "2024-05-12 00:56:42 WARNING: Language ar package default expects mwt, which has been added\n",
      "2024-05-12 00:56:42 INFO: Loading these models for language: ar (Arabic):\n",
      "=======================\n",
      "| Processor | Package |\n",
      "-----------------------\n",
      "| tokenize  | padt    |\n",
      "| mwt       | padt    |\n",
      "=======================\n",
      "\n",
      "2024-05-12 00:56:42 INFO: Using device: cpu\n",
      "2024-05-12 00:56:42 INFO: Loading: tokenize\n",
      "2024-05-12 00:56:42 INFO: Loading: mwt\n",
      "2024-05-12 00:56:42 INFO: Done loading processors!\n",
      "2024-05-12 00:56:49 INFO: Checking for updates to resources.json in case models have been updated.  Note: this behavior can be turned off with download_method=None or download_method=DownloadMethod.REUSE_RESOURCES\n"
     ]
    },
    {
     "data": {
      "application/vnd.jupyter.widget-view+json": {
       "model_id": "a3bb4d20c85f47bbb8350c5c1f9649f8",
       "version_major": 2,
       "version_minor": 0
      },
      "text/plain": [
       "Downloading https://raw.githubusercontent.com/stanfordnlp/stanza-resources/main/resources_1.8.0.json:   0%|   …"
      ]
     },
     "metadata": {},
     "output_type": "display_data"
    },
    {
     "name": "stderr",
     "output_type": "stream",
     "text": [
      "2024-05-12 00:56:49 INFO: Downloaded file to /home/zia/stanza_resources/resources.json\n",
      "2024-05-12 00:56:49 WARNING: Language ar package default expects mwt, which has been added\n",
      "2024-05-12 00:56:49 INFO: Loading these models for language: ar (Arabic):\n",
      "=======================\n",
      "| Processor | Package |\n",
      "-----------------------\n",
      "| tokenize  | padt    |\n",
      "| mwt       | padt    |\n",
      "=======================\n",
      "\n",
      "2024-05-12 00:56:49 INFO: Using device: cpu\n",
      "2024-05-12 00:56:49 INFO: Loading: tokenize\n",
      "2024-05-12 00:56:49 INFO: Loading: mwt\n",
      "2024-05-12 00:56:49 INFO: Done loading processors!\n",
      "2024-05-12 00:57:05 INFO: Checking for updates to resources.json in case models have been updated.  Note: this behavior can be turned off with download_method=None or download_method=DownloadMethod.REUSE_RESOURCES\n"
     ]
    },
    {
     "data": {
      "application/vnd.jupyter.widget-view+json": {
       "model_id": "057ab911f3f445b3ae68484be0c79398",
       "version_major": 2,
       "version_minor": 0
      },
      "text/plain": [
       "Downloading https://raw.githubusercontent.com/stanfordnlp/stanza-resources/main/resources_1.8.0.json:   0%|   …"
      ]
     },
     "metadata": {},
     "output_type": "display_data"
    },
    {
     "name": "stderr",
     "output_type": "stream",
     "text": [
      "2024-05-12 00:57:06 INFO: Downloaded file to /home/zia/stanza_resources/resources.json\n",
      "2024-05-12 00:57:06 WARNING: Language ar package default expects mwt, which has been added\n",
      "2024-05-12 00:57:06 INFO: Loading these models for language: ar (Arabic):\n",
      "=======================\n",
      "| Processor | Package |\n",
      "-----------------------\n",
      "| tokenize  | padt    |\n",
      "| mwt       | padt    |\n",
      "=======================\n",
      "\n",
      "2024-05-12 00:57:06 INFO: Using device: cpu\n",
      "2024-05-12 00:57:06 INFO: Loading: tokenize\n",
      "2024-05-12 00:57:06 INFO: Loading: mwt\n",
      "2024-05-12 00:57:06 INFO: Done loading processors!\n",
      "2024-05-12 00:57:09 INFO: Checking for updates to resources.json in case models have been updated.  Note: this behavior can be turned off with download_method=None or download_method=DownloadMethod.REUSE_RESOURCES\n"
     ]
    },
    {
     "data": {
      "application/vnd.jupyter.widget-view+json": {
       "model_id": "074b9530516a4f308c58ce4f44faf8a8",
       "version_major": 2,
       "version_minor": 0
      },
      "text/plain": [
       "Downloading https://raw.githubusercontent.com/stanfordnlp/stanza-resources/main/resources_1.8.0.json:   0%|   …"
      ]
     },
     "metadata": {},
     "output_type": "display_data"
    },
    {
     "name": "stderr",
     "output_type": "stream",
     "text": [
      "2024-05-12 00:57:09 INFO: Downloaded file to /home/zia/stanza_resources/resources.json\n",
      "2024-05-12 00:57:09 WARNING: Language ar package default expects mwt, which has been added\n",
      "2024-05-12 00:57:09 INFO: Loading these models for language: ar (Arabic):\n",
      "=======================\n",
      "| Processor | Package |\n",
      "-----------------------\n",
      "| tokenize  | padt    |\n",
      "| mwt       | padt    |\n",
      "=======================\n",
      "\n",
      "2024-05-12 00:57:09 INFO: Using device: cpu\n",
      "2024-05-12 00:57:09 INFO: Loading: tokenize\n",
      "2024-05-12 00:57:09 INFO: Loading: mwt\n",
      "2024-05-12 00:57:09 INFO: Done loading processors!\n",
      "2024-05-12 00:57:13 INFO: Checking for updates to resources.json in case models have been updated.  Note: this behavior can be turned off with download_method=None or download_method=DownloadMethod.REUSE_RESOURCES\n"
     ]
    },
    {
     "data": {
      "application/vnd.jupyter.widget-view+json": {
       "model_id": "8e2dd9fe4301460ea6e4bcddc01d735e",
       "version_major": 2,
       "version_minor": 0
      },
      "text/plain": [
       "Downloading https://raw.githubusercontent.com/stanfordnlp/stanza-resources/main/resources_1.8.0.json:   0%|   …"
      ]
     },
     "metadata": {},
     "output_type": "display_data"
    },
    {
     "name": "stderr",
     "output_type": "stream",
     "text": [
      "2024-05-12 00:57:13 INFO: Downloaded file to /home/zia/stanza_resources/resources.json\n",
      "2024-05-12 00:57:13 WARNING: Language ar package default expects mwt, which has been added\n",
      "2024-05-12 00:57:13 INFO: Loading these models for language: ar (Arabic):\n",
      "=======================\n",
      "| Processor | Package |\n",
      "-----------------------\n",
      "| tokenize  | padt    |\n",
      "| mwt       | padt    |\n",
      "=======================\n",
      "\n",
      "2024-05-12 00:57:13 INFO: Using device: cpu\n",
      "2024-05-12 00:57:13 INFO: Loading: tokenize\n",
      "2024-05-12 00:57:13 INFO: Loading: mwt\n",
      "2024-05-12 00:57:13 INFO: Done loading processors!\n",
      "2024-05-12 00:57:33 INFO: Checking for updates to resources.json in case models have been updated.  Note: this behavior can be turned off with download_method=None or download_method=DownloadMethod.REUSE_RESOURCES\n"
     ]
    },
    {
     "data": {
      "application/vnd.jupyter.widget-view+json": {
       "model_id": "66410ff14da44097abba490a63c5da76",
       "version_major": 2,
       "version_minor": 0
      },
      "text/plain": [
       "Downloading https://raw.githubusercontent.com/stanfordnlp/stanza-resources/main/resources_1.8.0.json:   0%|   …"
      ]
     },
     "metadata": {},
     "output_type": "display_data"
    },
    {
     "name": "stderr",
     "output_type": "stream",
     "text": [
      "2024-05-12 00:57:33 INFO: Downloaded file to /home/zia/stanza_resources/resources.json\n",
      "2024-05-12 00:57:33 WARNING: Language ar package default expects mwt, which has been added\n",
      "2024-05-12 00:57:33 INFO: Loading these models for language: ar (Arabic):\n",
      "=======================\n",
      "| Processor | Package |\n",
      "-----------------------\n",
      "| tokenize  | padt    |\n",
      "| mwt       | padt    |\n",
      "=======================\n",
      "\n",
      "2024-05-12 00:57:33 INFO: Using device: cpu\n",
      "2024-05-12 00:57:33 INFO: Loading: tokenize\n",
      "2024-05-12 00:57:33 INFO: Loading: mwt\n",
      "2024-05-12 00:57:33 INFO: Done loading processors!\n",
      "2024-05-12 00:57:34 INFO: Checking for updates to resources.json in case models have been updated.  Note: this behavior can be turned off with download_method=None or download_method=DownloadMethod.REUSE_RESOURCES\n"
     ]
    },
    {
     "data": {
      "application/vnd.jupyter.widget-view+json": {
       "model_id": "2a5f12fa53ad467da6661b0d6b6aa1b5",
       "version_major": 2,
       "version_minor": 0
      },
      "text/plain": [
       "Downloading https://raw.githubusercontent.com/stanfordnlp/stanza-resources/main/resources_1.8.0.json:   0%|   …"
      ]
     },
     "metadata": {},
     "output_type": "display_data"
    },
    {
     "name": "stderr",
     "output_type": "stream",
     "text": [
      "2024-05-12 00:57:34 INFO: Downloaded file to /home/zia/stanza_resources/resources.json\n",
      "2024-05-12 00:57:34 WARNING: Language ar package default expects mwt, which has been added\n",
      "2024-05-12 00:57:34 INFO: Loading these models for language: ar (Arabic):\n",
      "=======================\n",
      "| Processor | Package |\n",
      "-----------------------\n",
      "| tokenize  | padt    |\n",
      "| mwt       | padt    |\n",
      "=======================\n",
      "\n",
      "2024-05-12 00:57:34 INFO: Using device: cpu\n",
      "2024-05-12 00:57:34 INFO: Loading: tokenize\n",
      "2024-05-12 00:57:34 INFO: Loading: mwt\n",
      "2024-05-12 00:57:35 INFO: Done loading processors!\n",
      "2024-05-12 00:57:37 INFO: Checking for updates to resources.json in case models have been updated.  Note: this behavior can be turned off with download_method=None or download_method=DownloadMethod.REUSE_RESOURCES\n"
     ]
    },
    {
     "data": {
      "application/vnd.jupyter.widget-view+json": {
       "model_id": "eb147d5028154d28952d061d59ae36dc",
       "version_major": 2,
       "version_minor": 0
      },
      "text/plain": [
       "Downloading https://raw.githubusercontent.com/stanfordnlp/stanza-resources/main/resources_1.8.0.json:   0%|   …"
      ]
     },
     "metadata": {},
     "output_type": "display_data"
    },
    {
     "name": "stderr",
     "output_type": "stream",
     "text": [
      "2024-05-12 00:57:37 INFO: Downloaded file to /home/zia/stanza_resources/resources.json\n",
      "2024-05-12 00:57:37 WARNING: Language ar package default expects mwt, which has been added\n",
      "2024-05-12 00:57:37 INFO: Loading these models for language: ar (Arabic):\n",
      "=======================\n",
      "| Processor | Package |\n",
      "-----------------------\n",
      "| tokenize  | padt    |\n",
      "| mwt       | padt    |\n",
      "=======================\n",
      "\n",
      "2024-05-12 00:57:37 INFO: Using device: cpu\n",
      "2024-05-12 00:57:37 INFO: Loading: tokenize\n",
      "2024-05-12 00:57:37 INFO: Loading: mwt\n",
      "2024-05-12 00:57:37 INFO: Done loading processors!\n",
      "2024-05-12 00:57:39 INFO: Checking for updates to resources.json in case models have been updated.  Note: this behavior can be turned off with download_method=None or download_method=DownloadMethod.REUSE_RESOURCES\n"
     ]
    },
    {
     "data": {
      "application/vnd.jupyter.widget-view+json": {
       "model_id": "80b1cb5273cd40afa5eb9e745f55dd28",
       "version_major": 2,
       "version_minor": 0
      },
      "text/plain": [
       "Downloading https://raw.githubusercontent.com/stanfordnlp/stanza-resources/main/resources_1.8.0.json:   0%|   …"
      ]
     },
     "metadata": {},
     "output_type": "display_data"
    },
    {
     "name": "stderr",
     "output_type": "stream",
     "text": [
      "2024-05-12 00:57:39 INFO: Downloaded file to /home/zia/stanza_resources/resources.json\n",
      "2024-05-12 00:57:39 WARNING: Language ar package default expects mwt, which has been added\n",
      "2024-05-12 00:57:39 INFO: Loading these models for language: ar (Arabic):\n",
      "=======================\n",
      "| Processor | Package |\n",
      "-----------------------\n",
      "| tokenize  | padt    |\n",
      "| mwt       | padt    |\n",
      "=======================\n",
      "\n",
      "2024-05-12 00:57:39 INFO: Using device: cpu\n",
      "2024-05-12 00:57:39 INFO: Loading: tokenize\n",
      "2024-05-12 00:57:39 INFO: Loading: mwt\n",
      "2024-05-12 00:57:39 INFO: Done loading processors!\n",
      "2024-05-12 00:58:07 INFO: Checking for updates to resources.json in case models have been updated.  Note: this behavior can be turned off with download_method=None or download_method=DownloadMethod.REUSE_RESOURCES\n"
     ]
    },
    {
     "data": {
      "application/vnd.jupyter.widget-view+json": {
       "model_id": "2e65aff291b040a481c87d53819ca582",
       "version_major": 2,
       "version_minor": 0
      },
      "text/plain": [
       "Downloading https://raw.githubusercontent.com/stanfordnlp/stanza-resources/main/resources_1.8.0.json:   0%|   …"
      ]
     },
     "metadata": {},
     "output_type": "display_data"
    },
    {
     "name": "stderr",
     "output_type": "stream",
     "text": [
      "2024-05-12 00:58:07 INFO: Downloaded file to /home/zia/stanza_resources/resources.json\n",
      "2024-05-12 00:58:07 WARNING: Language ar package default expects mwt, which has been added\n",
      "2024-05-12 00:58:07 INFO: Loading these models for language: ar (Arabic):\n",
      "=======================\n",
      "| Processor | Package |\n",
      "-----------------------\n",
      "| tokenize  | padt    |\n",
      "| mwt       | padt    |\n",
      "=======================\n",
      "\n",
      "2024-05-12 00:58:07 INFO: Using device: cpu\n",
      "2024-05-12 00:58:07 INFO: Loading: tokenize\n",
      "2024-05-12 00:58:07 INFO: Loading: mwt\n",
      "2024-05-12 00:58:07 INFO: Done loading processors!\n",
      "2024-05-12 00:58:21 INFO: Checking for updates to resources.json in case models have been updated.  Note: this behavior can be turned off with download_method=None or download_method=DownloadMethod.REUSE_RESOURCES\n"
     ]
    },
    {
     "data": {
      "application/vnd.jupyter.widget-view+json": {
       "model_id": "29d9564837cc40ad9de477e5d0dfe7fd",
       "version_major": 2,
       "version_minor": 0
      },
      "text/plain": [
       "Downloading https://raw.githubusercontent.com/stanfordnlp/stanza-resources/main/resources_1.8.0.json:   0%|   …"
      ]
     },
     "metadata": {},
     "output_type": "display_data"
    },
    {
     "name": "stderr",
     "output_type": "stream",
     "text": [
      "2024-05-12 00:58:22 INFO: Downloaded file to /home/zia/stanza_resources/resources.json\n",
      "2024-05-12 00:58:22 WARNING: Language ar package default expects mwt, which has been added\n",
      "2024-05-12 00:58:22 INFO: Loading these models for language: ar (Arabic):\n",
      "=======================\n",
      "| Processor | Package |\n",
      "-----------------------\n",
      "| tokenize  | padt    |\n",
      "| mwt       | padt    |\n",
      "=======================\n",
      "\n",
      "2024-05-12 00:58:22 INFO: Using device: cpu\n",
      "2024-05-12 00:58:22 INFO: Loading: tokenize\n",
      "2024-05-12 00:58:22 INFO: Loading: mwt\n",
      "2024-05-12 00:58:22 INFO: Done loading processors!\n",
      "2024-05-12 00:58:22 INFO: Checking for updates to resources.json in case models have been updated.  Note: this behavior can be turned off with download_method=None or download_method=DownloadMethod.REUSE_RESOURCES\n"
     ]
    },
    {
     "data": {
      "application/vnd.jupyter.widget-view+json": {
       "model_id": "63e2b9760a374818acc399fd332e968d",
       "version_major": 2,
       "version_minor": 0
      },
      "text/plain": [
       "Downloading https://raw.githubusercontent.com/stanfordnlp/stanza-resources/main/resources_1.8.0.json:   0%|   …"
      ]
     },
     "metadata": {},
     "output_type": "display_data"
    },
    {
     "name": "stderr",
     "output_type": "stream",
     "text": [
      "2024-05-12 00:58:23 INFO: Downloaded file to /home/zia/stanza_resources/resources.json\n",
      "2024-05-12 00:58:23 WARNING: Language ar package default expects mwt, which has been added\n",
      "2024-05-12 00:58:23 INFO: Loading these models for language: ar (Arabic):\n",
      "=======================\n",
      "| Processor | Package |\n",
      "-----------------------\n",
      "| tokenize  | padt    |\n",
      "| mwt       | padt    |\n",
      "=======================\n",
      "\n",
      "2024-05-12 00:58:23 INFO: Using device: cpu\n",
      "2024-05-12 00:58:23 INFO: Loading: tokenize\n",
      "2024-05-12 00:58:23 INFO: Loading: mwt\n",
      "2024-05-12 00:58:23 INFO: Done loading processors!\n"
     ]
    },
    {
     "name": "stdout",
     "output_type": "stream",
     "text": [
      "Le fichier de sortie CSV est bien généré : ./results/CSV/result.csv\n"
     ]
    }
   ],
   "source": [
    "if __name__ == \"__main__\":\n",
    "    main()"
   ]
  }
 ],
 "metadata": {
  "kernelspec": {
   "display_name": "Python 3",
   "language": "python",
   "name": "python3"
  },
  "language_info": {
   "codemirror_mode": {
    "name": "ipython",
    "version": 3
   },
   "file_extension": ".py",
   "mimetype": "text/x-python",
   "name": "python",
   "nbconvert_exporter": "python",
   "pygments_lexer": "ipython3",
   "version": "3.11.4"
  }
 },
 "nbformat": 4,
 "nbformat_minor": 2
}
