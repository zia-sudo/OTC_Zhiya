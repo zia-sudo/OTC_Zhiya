{
 "cells": [
  {
   "cell_type": "markdown",
   "metadata": {},
   "source": [
    "## Nettoyage des résultats"
   ]
  },
  {
   "cell_type": "markdown",
   "metadata": {},
   "source": [
    "### Import des bibliothèques nécessaires"
   ]
  },
  {
   "cell_type": "code",
   "execution_count": 21,
   "metadata": {},
   "outputs": [],
   "source": [
    "import os\n",
    "import re"
   ]
  },
  {
   "cell_type": "code",
   "execution_count": 22,
   "metadata": {},
   "outputs": [],
   "source": [
    "def clean_text(text):\n",
    "    # Normaliser les espaces\n",
    "    text = re.sub(r\"\\s+\", \" \", text)\n",
    "    # Supprimer les numéros de page\n",
    "    text = re.sub(r\"Page \\d+\", \"\", text)\n",
    "    # Supprimer les sauts de ligne\n",
    "    text = re.sub(r\"\\n\", \"\", text)\n",
    "    # Supprimer les espaces inutiles au début et à la fin du texte\n",
    "    return text.strip()"
   ]
  },
  {
   "cell_type": "markdown",
   "metadata": {},
   "source": [
    "Cette fonction prend un texte brut en entrée.\n",
    "\n",
    "Elle utilise des expressions régulières pour effectuer plusieurs opérations de nettoyage :\n",
    "\n",
    "Je remplace une ou plusieurs occurrences d'espaces blancs consécutifs par un seul espace.\n",
    "\n",
    "Je supprime les chaînes de caractères de la forme \"Page X\" où X est un nombre.\n",
    "\n",
    "Je remplace les caractères de nouvelle ligne (\\n) par rien, effaçant ainsi tous les sauts de ligne dans le texte.\n",
    "\n",
    "Je supprime les espaces au début et à la fin du texte pour assurer une propreté totale\n",
    "\n",
    "Enfin, elle renvoie le texte nettoyé."
   ]
  },
  {
   "cell_type": "code",
   "execution_count": 23,
   "metadata": {},
   "outputs": [],
   "source": [
    "def clean_files(input_folder, output_folder):\n",
    "    # Créer le dossier de sortie \"fichiers_clean\" s'il n'existe pas déjà\n",
    "    os.makedirs(os.path.join(output_folder, \"fichiers_clean\"), exist_ok=True)\n",
    "\n",
    "    for root, _, files in os.walk(input_folder):\n",
    "        for file in files:\n",
    "            if file.endswith(\".txt\"):\n",
    "                input_file_path = os.path.join(root, file)\n",
    "                output_file_path = os.path.join(output_folder, \"fichiers_clean\", file)\n",
    "\n",
    "                with open(input_file_path, \"r\", encoding=\"utf-8\") as f:\n",
    "                    text = f.read()\n",
    "\n",
    "                # Nettoyer le contenu du fichier\n",
    "                clean_content = clean_text(text)\n",
    "\n",
    "                with open(output_file_path, \"w\", encoding=\"utf-8\") as f:\n",
    "                    f.write(clean_content)\n",
    "    \n",
    "    # Afficher un message indiquant que tous les fichiers ont été nettoyés et enregistrés\n",
    "    print(\"Tous les fichiers ont été nettoyés et enregistrés dans le répertoire : '{}'.\".format(os.path.join(output_folder, \"fichiers_clean\")))\n",
    "    "
   ]
  },
  {
   "cell_type": "markdown",
   "metadata": {},
   "source": [
    "Fonction `clean_files` :\n",
    "\n",
    "Cette fonction prend deux arguments : le chemin du dossier d'entrée contenant les fichiers bruts et le chemin du dossier de sortie où enregistrer les fichiers nettoyés.\n",
    "\n",
    "Elle commence par créer le dossier de sortie \"results\" s'il n'existe pas déjà.\n",
    "\n",
    "Ensuite, elle parcourt tous les fichiers dans le dossier d'entrée.\n",
    "\n",
    "Pour chaque fichier .txt trouvé, elle lit son contenu, nettoie le texte en utilisant la fonction clean_text, puis écrit le texte nettoyé dans un nouveau fichier dans le dossier de sortie.\n",
    "\n",
    "Elle affiche un message confirmant que tous les fichiers ont été nettoyés et enregistrés avec succès dans le dossier de sortie."
   ]
  },
  {
   "cell_type": "code",
   "execution_count": 24,
   "metadata": {},
   "outputs": [],
   "source": [
    "# Dossiers d'entrée et de sortie\n",
    "input_folder = \"../raw/results/\"\n",
    "output_folder = \"./results\""
   ]
  },
  {
   "cell_type": "code",
   "execution_count": 25,
   "metadata": {},
   "outputs": [
    {
     "name": "stdout",
     "output_type": "stream",
     "text": [
      "Tous les fichiers ont été nettoyés et enregistrés dans le répertoire : './results/fichiers_clean'.\n"
     ]
    }
   ],
   "source": [
    "# Appel de la fonction pour nettoyer les fichiers\n",
    "clean_files(input_folder, output_folder)            "
   ]
  },
  {
   "cell_type": "markdown",
   "metadata": {},
   "source": [
    "Appel de la fonction `clean_files` :\n",
    "\n",
    "Finalement, les chemins des dossiers d'entrée et de sortie sont spécifiés, et la fonction clean_files est appelée avec ces arguments pour effectuer le nettoyage des fichiers."
   ]
  }
 ],
 "metadata": {
  "kernelspec": {
   "display_name": "Python 3",
   "language": "python",
   "name": "python3"
  },
  "language_info": {
   "codemirror_mode": {
    "name": "ipython",
    "version": 3
   },
   "file_extension": ".py",
   "mimetype": "text/x-python",
   "name": "python",
   "nbconvert_exporter": "python",
   "pygments_lexer": "ipython3",
   "version": "3.11.6"
  }
 },
 "nbformat": 4,
 "nbformat_minor": 2
}
